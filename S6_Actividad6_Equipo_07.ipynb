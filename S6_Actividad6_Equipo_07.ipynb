{
  "nbformat": 4,
  "nbformat_minor": 0,
  "metadata": {
    "colab": {
      "provenance": [],
      "collapsed_sections": [],
      "include_colab_link": true
    },
    "kernelspec": {
      "display_name": "Python 3",
      "name": "python3"
    }
  },
  "cells": [
    {
      "cell_type": "markdown",
      "metadata": {
        "id": "view-in-github",
        "colab_type": "text"
      },
      "source": [
        "<a href=\"https://colab.research.google.com/github/a01685424/iayaa-Equipo-7/blob/main/S6_Actividad6_Equipo_07.ipynb\" target=\"_parent\"><img src=\"https://colab.research.google.com/assets/colab-badge.svg\" alt=\"Open In Colab\"/></a>"
      ]
    },
    {
      "cell_type": "markdown",
      "source": [
        "#**Maestría en Inteligencia Artificial Aplicada**\n",
        "##**Curso: Inteligencia Artificial y Aprendizaje Automático**\n",
        "###Tecnológico de Monterrey\n",
        "###Prof Luis Eduardo Falcón Morales\n",
        "\n",
        "## **Adtividad de la Semana 6**\n",
        "###**Árboles de decisión y bosque aleatorio.**\n"
      ],
      "metadata": {
        "id": "VFj0sSM06dYa"
      }
    },
    {
      "cell_type": "markdown",
      "source": [
        "**Nombres y matrículas de los integrantes del equipo:**\n",
        "\n",
        "**Equipo: 07**\n",
        "\n",
        "* Alejandro Juárez Corona\t         A01168444\n",
        "* Alberto Patraca Sotomayor\t       A01793469\n",
        "* Julio César Pérez Zapata\t       A01793880\n",
        "* Fernando Alfredo Rojas Estrella\t A01685424\n",
        "* Rodrigo Ruiz González\t           A01793081\n",
        "\n"
      ],
      "metadata": {
        "id": "Qgrvy0RGB9XI"
      }
    },
    {
      "cell_type": "markdown",
      "source": [
        "**INSTRUCCIONES: En cada sección deberás incluir todas las líneas de código necesarias para responder a cada uno de los ejercicios.**"
      ],
      "metadata": {
        "id": "FrJ2ahMODVj1"
      }
    },
    {
      "cell_type": "markdown",
      "source": [
        "Esta Tarea se deberá resolver en equipos, de acuerdo a como fueron integrados en semanas pasadas.\n",
        "\n",
        "El asignar un crédito sabemos que conlleva un riesgo para el prestamista en caso de que el deudor no pague al final la cantidad asignada, o inclusive el equivocarnos al negarle el préstamo a alguien que sí\n",
        "era confiable.\n",
        "\n",
        "Durante décadas se ha tratado de resolver dicho problema desde muchas áreas del conocimiento y en particular las técnicas de Aprendizaje Automático (Machine Learning) han brindado y siguen proporcionando nuevas formas de enfrentar este problema.\n",
        "\n",
        "No existen muchas bases de datos abiertas bien documentadas sobre este problema, sin embargo los datos del archivo **SouthGermanCredit.asc** del South_German_Credit_Data_Set de la página de la UCI es una sobre la cual se hace mucha investigación en torno a minimizar el riesgo en la asignación de\n",
        "créditos.\n",
        "\n",
        "En esta tarea se trabajará con dichos datos y los puedes encontrar dentro del archivo zip de la siguiente liga: [Ir al zip](https://archive.ics.uci.edu/ml/datasets/South+German+Credit)\n",
        "\n",
        "En la página de la liga anterior también se encuentra el archivo **codetable.txt** en el archivo zip. Ahí puedes encontrar más información detallada sobre el significado y tipo de cada variable.\n",
        "\n",
        "Al menos en las siguientes ligas puedes encontrar mayor información de dichos datos:\n",
        "\n",
        "[Overview](https://www.kaggle.com/competitions/south-german-credit-prediction/overview)\n",
        "\n",
        "[Paper](https://www.semanticscholar.org/paper/South-German-Credit-Data-Classification-Using-to-Religia-Pranoto/219c9968cfa2cbb802376cf88035fe5e664b4418)\n",
        "\n",
        "[ieee](https://ieeexplore.ieee.org/document/9239944)\n",
        "\n",
        "Así, con base a datos históricos, el objetivo es **predecir si una persona es clasificada como confiable a la asignación de un crédito, o no lo es**. La **variable de salida se llama “kredit”**."
      ],
      "metadata": {
        "id": "XQh4UyA2tr0j"
      }
    },
    {
      "cell_type": "code",
      "source": [
        "# Incluye aquí todos módulos, librerías y paquetes que requieras.\n",
        "import pandas as pd\n",
        "import numpy as np\n",
        "import matplotlib.pyplot as plt\n",
        "import seaborn as sns \n",
        "from google.colab import drive\n",
        "from sklearn.model_selection import train_test_split\n",
        "from sklearn.pipeline import Pipeline\n",
        "from sklearn.impute import SimpleImputer\n",
        "from sklearn.preprocessing import StandardScaler, MinMaxScaler, OneHotEncoder, FunctionTransformer\n",
        "from sklearn.compose import ColumnTransformer\n",
        "from sklearn.linear_model import LogisticRegression\n",
        "from sklearn.tree import DecisionTreeClassifier\n",
        "from sklearn.ensemble import RandomForestClassifier\n",
        "from sklearn.metrics import confusion_matrix, make_scorer\n",
        "\n",
        "from sklearn.model_selection import RepeatedStratifiedKFold\n",
        "from sklearn.model_selection import cross_validate, cross_val_score\n",
        "\n",
        "\n",
        "# from sklearn.metrics import classification_report \n",
        "# from sklearn.model_selection import learning_curve, validation_curve\n",
        "from sklearn.tree import DecisionTreeClassifier, export_text, plot_tree"
      ],
      "metadata": {
        "id": "exXsscs-Dh-2"
      },
      "execution_count": 2,
      "outputs": []
    },
    {
      "cell_type": "markdown",
      "metadata": {
        "id": "X25brD-gQdZM"
      },
      "source": [
        "#**Ejercicio-1.** "
      ]
    },
    {
      "cell_type": "markdown",
      "source": [
        "1. Carga los datos y sustituye los nombres de las columnas del alemán al inglés de acuerdo a como se indica en la página de la UCI.\n",
        "\n",
        "*NOTA: Si lo deseas, puedes traducirlos y ponerlas en español.*"
      ],
      "metadata": {
        "id": "rdTV-nYat39-"
      }
    },
    {
      "cell_type": "code",
      "source": [
        "# Cargando drive para compartir el set de datos\n",
        "drive.mount('/content/drive')"
      ],
      "metadata": {
        "colab": {
          "base_uri": "https://localhost:8080/"
        },
        "id": "i2cCej2pC-TQ",
        "outputId": "f71b3134-e7b5-41ff-e78d-972771476672"
      },
      "execution_count": 3,
      "outputs": [
        {
          "output_type": "stream",
          "name": "stdout",
          "text": [
            "Mounted at /content/drive\n"
          ]
        }
      ]
    },
    {
      "cell_type": "code",
      "source": [
        "# Cargando el set de datos SouthGermanCredit.asc\n",
        "url = \"/content/drive/Shareddrives/Equipo 7 - IAyAA/Tarea Semana 6/SouthGermanCredit.asc\"\n",
        "archivo = pd.read_csv(url, delimiter='\\s+')\n",
        "df = archivo\n",
        "cabeceros = ['estatus_de_cuenta', 'tiempo_corriente', 'historial_de_crédito', 'propósito_de_crédito',\n",
        "             'cantidad_crédito', 'ahorros', 'duración_de_empleo', 'tasa_de_cuota', 'estado_civil', \n",
        "             'otros_deudores', 'tiempo_de_residencia', 'propiedades' , 'edad', 'otros_planes_de_pagos', \n",
        "             'vivienda',  'número_de_créditos', 'empleo', 'personas_dependientes', 'teléfono', 'trabajador_extranjero', \n",
        "             'riesgo_crediticio']\n",
        "df.columns = cabeceros # Agregando cabeceros al data frame\n",
        "\n",
        "print('Dataframe:\\n',df.head(5))\n",
        "print('\\n- - - - - - - - - - - - - - - - - - - - - \\n')"
      ],
      "metadata": {
        "id": "3nU2GuWYCy6C",
        "colab": {
          "base_uri": "https://localhost:8080/"
        },
        "outputId": "476e6302-6215-4d9b-f22b-7f67bd4ca2b4"
      },
      "execution_count": 4,
      "outputs": [
        {
          "output_type": "stream",
          "name": "stdout",
          "text": [
            "Dataframe:\n",
            "    estatus_de_cuenta  tiempo_corriente  historial_de_crédito  \\\n",
            "0                  1                18                     4   \n",
            "1                  1                 9                     4   \n",
            "2                  2                12                     2   \n",
            "3                  1                12                     4   \n",
            "4                  1                12                     4   \n",
            "\n",
            "   propósito_de_crédito  cantidad_crédito  ahorros  duración_de_empleo  \\\n",
            "0                     2              1049        1                   2   \n",
            "1                     0              2799        1                   3   \n",
            "2                     9               841        2                   4   \n",
            "3                     0              2122        1                   3   \n",
            "4                     0              2171        1                   3   \n",
            "\n",
            "   tasa_de_cuota  estado_civil  otros_deudores  ...  propiedades  edad  \\\n",
            "0              4             2               1  ...            2    21   \n",
            "1              2             3               1  ...            1    36   \n",
            "2              2             2               1  ...            1    23   \n",
            "3              3             3               1  ...            1    39   \n",
            "4              4             3               1  ...            2    38   \n",
            "\n",
            "   otros_planes_de_pagos  vivienda  número_de_créditos  empleo  \\\n",
            "0                      3         1                   1       3   \n",
            "1                      3         1                   2       3   \n",
            "2                      3         1                   1       2   \n",
            "3                      3         1                   2       2   \n",
            "4                      1         2                   2       2   \n",
            "\n",
            "   personas_dependientes  teléfono  trabajador_extranjero  riesgo_crediticio  \n",
            "0                      2         1                      2                  1  \n",
            "1                      1         1                      2                  1  \n",
            "2                      2         1                      2                  1  \n",
            "3                      1         1                      1                  1  \n",
            "4                      2         1                      1                  1  \n",
            "\n",
            "[5 rows x 21 columns]\n",
            "\n",
            "- - - - - - - - - - - - - - - - - - - - - \n",
            "\n"
          ]
        }
      ]
    },
    {
      "cell_type": "code",
      "source": [
        "# Entendiendo los datos\n",
        "\n",
        "print('Dataframe shape:',df.shape)\n",
        "print('\\n- - - - - - - - - - - - - - - - - - - - - \\n')\n",
        "print('Dataframe info:',df.info())\n",
        "print('\\n- - - - - - - - - - - - - - - - - - - - - \\n')\n",
        "\n",
        "if df.isnull().values.any(): # Buscando nulos\n",
        "  print('El data frame SÍ tiene nulos\\n') # Desechamos los valores NaN\n",
        "  print('Se procede al borrado de los Nan:\\n')\n",
        "  df_dropNan = df.dropna()\n",
        "  print('¿Existen NaN en el data frame?:',df.isnull().values.any())\n",
        "else:\n",
        "  print('El data frame NO tiene nulos\\n')\n",
        "print('\\n- - - - - - - - - - - - - - - - - - - - - \\n')"
      ],
      "metadata": {
        "id": "0ulkqXVGCy97",
        "colab": {
          "base_uri": "https://localhost:8080/"
        },
        "outputId": "bb9c14d9-e50d-4e46-b0ae-c9fb5622750b"
      },
      "execution_count": 5,
      "outputs": [
        {
          "output_type": "stream",
          "name": "stdout",
          "text": [
            "Dataframe shape: (1000, 21)\n",
            "\n",
            "- - - - - - - - - - - - - - - - - - - - - \n",
            "\n",
            "<class 'pandas.core.frame.DataFrame'>\n",
            "RangeIndex: 1000 entries, 0 to 999\n",
            "Data columns (total 21 columns):\n",
            " #   Column                 Non-Null Count  Dtype\n",
            "---  ------                 --------------  -----\n",
            " 0   estatus_de_cuenta      1000 non-null   int64\n",
            " 1   tiempo_corriente       1000 non-null   int64\n",
            " 2   historial_de_crédito   1000 non-null   int64\n",
            " 3   propósito_de_crédito   1000 non-null   int64\n",
            " 4   cantidad_crédito       1000 non-null   int64\n",
            " 5   ahorros                1000 non-null   int64\n",
            " 6   duración_de_empleo     1000 non-null   int64\n",
            " 7   tasa_de_cuota          1000 non-null   int64\n",
            " 8   estado_civil           1000 non-null   int64\n",
            " 9   otros_deudores         1000 non-null   int64\n",
            " 10  tiempo_de_residencia   1000 non-null   int64\n",
            " 11  propiedades            1000 non-null   int64\n",
            " 12  edad                   1000 non-null   int64\n",
            " 13  otros_planes_de_pagos  1000 non-null   int64\n",
            " 14  vivienda               1000 non-null   int64\n",
            " 15  número_de_créditos     1000 non-null   int64\n",
            " 16  empleo                 1000 non-null   int64\n",
            " 17  personas_dependientes  1000 non-null   int64\n",
            " 18  teléfono               1000 non-null   int64\n",
            " 19  trabajador_extranjero  1000 non-null   int64\n",
            " 20  riesgo_crediticio      1000 non-null   int64\n",
            "dtypes: int64(21)\n",
            "memory usage: 164.2 KB\n",
            "Dataframe info: None\n",
            "\n",
            "- - - - - - - - - - - - - - - - - - - - - \n",
            "\n",
            "El data frame NO tiene nulos\n",
            "\n",
            "\n",
            "- - - - - - - - - - - - - - - - - - - - - \n",
            "\n"
          ]
        }
      ]
    },
    {
      "cell_type": "markdown",
      "source": [
        "**# Variables:**\n",
        "\n",
        "Id\tCabeceros\t\t\ttipo de variable\n",
        "\n",
        "1.\t'estatus de cuenta' ----------- Categórica\n",
        "2.\t'tiempo corriente' ------------- Cuantitativa\n",
        "3.\t'historial de crédito' ---------- Categórica\n",
        "4.\t'propósito de crédito' -------- Categórica\n",
        "5.\t'cantidad crédito' -------------- Cuantitativa\n",
        "6.\t'ahorros' --------------------------- Categórica\n",
        "7.\t'duración de empleo' -------- Ordinal\n",
        "8.\t'tasa de cuota' ------------------ Ordinal\n",
        "9.\t'estado civil' --------------------- Categórica\n",
        "10.\t'otros deudores' --------------- Categórica\n",
        "11.\t'tiempo de residencia' ------ Ordinal\n",
        "12.\t'propiedades' ------------------- Ordinal\n",
        "13.\t'edad' ------------------------------- Cuantitativa\n",
        "14.\t'otros planes de pagos' --- Categórica\n",
        "15.\t'vivienda' ------------------------- Categórica\n",
        "16.\t'número de créditos' ------- Ordinal\n",
        "17.\t'empleo' -------------------------- Ordinal\n",
        "18.\t'personas dependientes' - Binaria\n",
        "19.\t'teléfono' ------------------------- Binaria\n",
        "20.\t'trabajador extranjero' ---- Binaria\n",
        "---\n",
        "21.\t'riesgo crediticio' ------------ Binaria\n",
        "+ + + 0: malo + + + 1: bueno\n"
      ],
      "metadata": {
        "id": "K-sxw5XrdPIE"
      }
    },
    {
      "cell_type": "code",
      "source": [
        "# Visualizamos la frecuencia de las clases.\n",
        "var_categoricas = ['estatus_de_cuenta', 'historial_de_crédito', 'propósito_de_crédito',\n",
        "                   'ahorros', 'duración_de_empleo', 'tasa_de_cuota', 'estado_civil', \n",
        "                   'otros_deudores', 'tiempo_de_residencia', 'propiedades' , \n",
        "                   'otros_planes_de_pagos', 'vivienda',  'número_de_créditos', 'empleo', \n",
        "                   'personas_dependientes', 'teléfono', 'trabajador_extranjero', 'riesgo_crediticio']\n",
        "frecuencias = pd.DataFrame()\n",
        "sns.set(rc={'figure.figsize':(25,15)})              # (ancho-columnas, altura-renglones) Ajustemos el tamaño de la ventana usando seaborn.\n",
        "fig, axes = plt.subplots(3, 6)                      # Definimos una ventana de 3x3 nichos para incluir en cada uno de ellos un gráfico.\n",
        "k = 1                                               # Inicializamos el contador de la posición del nicho\n",
        "print('Gráficos de barras con porcentajes de respuestas por clase')\n",
        "for name in var_categoricas:\n",
        "  frecuencias['frecuencia'] = pd.value_counts(df[name])\n",
        "  frecuencias['%'] = frecuencias.frecuencia * 100 / frecuencias.frecuencia.sum()\n",
        "  # print('Frecuencia de \\\"',name,'\\\":\\n',frecuencias,'\\n - - - - - - - - - - - - - - - - - - \\n')\n",
        "  plt.subplot(3,6,k)\n",
        "  plt.ylim(0,100)                               # Los nichos para cada histograma se numeran iniciando en 1.\n",
        "  frecuencias['%'].plot( kind= 'bar', title= name)\n",
        "  k = k + 1\n",
        "  frecuencias = pd.DataFrame()\n",
        "# - - - - - - - - - - - - - - - - - - - - - - - - - - - - - - - - - - - - - - - "
      ],
      "metadata": {
        "colab": {
          "base_uri": "https://localhost:8080/",
          "height": 764
        },
        "id": "EIKqWLq4C30p",
        "outputId": "4dedd14a-d87e-4c74-b199-fa218ea00421"
      },
      "execution_count": 6,
      "outputs": [
        {
          "output_type": "stream",
          "name": "stdout",
          "text": [
            "Gráficos de barras con porcentajes de respuestas por clase\n"
          ]
        },
        {
          "output_type": "display_data",
          "data": {
            "text/plain": [
              "<Figure size 1800x1080 with 18 Axes>"
            ],
            "image/png": "[encoded data removed]"
          },
          "metadata": {}
        }
      ]
    },
    {
      "cell_type": "code",
      "source": [
        "# Visualizando los histogramas de las variables númericas.\n",
        "sns.set(rc={'figure.figsize':(12.5,5)})   # (ancho-columnas, altura-renglones) Ajustemos el tamaño de la ventana \n",
        "                                        # que desplegará los gráficos usando la librería de seaborn (sns).\n",
        "fig, axes = plt.subplots(1, 3)          # Definimos una ventana de 3x3 nichos para incluir en cada uno de ellos un gráfico.\n",
        "var_numéricas = ['tiempo_corriente', 'cantidad_crédito', 'edad']\n",
        "k = 1\n",
        "for name in var_numéricas:\n",
        "  plt.subplot(1,3,k)                  # Los nichos para cada histograma se numeran iniciando en 1.\n",
        "  plt.hist(df[name], bins=20)     # datatrain.columns nos devuelve una lista con los nombres de las columnas.\n",
        "  plt.xlabel(name)\n",
        "  k = k +1\n",
        "plt.show()"
      ],
      "metadata": {
        "colab": {
          "base_uri": "https://localhost:8080/",
          "height": 339
        },
        "id": "7Rlc2H47xbO3",
        "outputId": "32be7475-6680-4ac9-b2df-e71c0e8d8c2e"
      },
      "execution_count": 7,
      "outputs": [
        {
          "output_type": "display_data",
          "data": {
            "text/plain": [
              "<Figure size 900x360 with 3 Axes>"
            ],
            "image/png": "[encoded data removed]"
          },
          "metadata": {}
        }
      ]
    },
    {
      "cell_type": "code",
      "source": [
        "# Visualizamos la frecuencia de la variable de respuesta.\n",
        "\n",
        "frecuencias = pd.DataFrame()\n",
        "sns.set(rc={'figure.figsize':(4,5)})                # (ancho-columnas, altura-renglones) Ajustemos el tamaño de la ventana usando seaborn.\n",
        "fig, axes = plt.subplots(1, 1)                      # Definimos una ventana de 3x3 nichos para incluir en cada uno de ellos un gráfico.\n",
        "k = 1                                               # Inicializamos el contador de la posición del nicho\n",
        "print('Gráficos de barras con porcentajes de respuestas de la variable de salid')\n",
        "\n",
        "frecuencias['frecuencia'] = pd.value_counts(df['riesgo_crediticio'])\n",
        "frecuencias['%'] = frecuencias.frecuencia * 100 / frecuencias.frecuencia.sum()\n",
        "plt.subplot(1,1,k)\n",
        "plt.ylim(0,80)                                     # Los nichos para cada histograma se numeran iniciando en 1.\n",
        "frecuencias['%'].plot( kind= 'bar', title= 'riesgo_crediticio')\n"
      ],
      "metadata": {
        "colab": {
          "base_uri": "https://localhost:8080/",
          "height": 371
        },
        "id": "14oiDmeVGCi9",
        "outputId": "ee60f50a-1237-486e-8324-bda191916af8"
      },
      "execution_count": 8,
      "outputs": [
        {
          "output_type": "stream",
          "name": "stdout",
          "text": [
            "Gráficos de barras con porcentajes de respuestas de la variable de salid\n"
          ]
        },
        {
          "output_type": "execute_result",
          "data": {
            "text/plain": [
              "<matplotlib.axes._subplots.AxesSubplot at 0x7f7997652810>"
            ]
          },
          "metadata": {},
          "execution_count": 8
        },
        {
          "output_type": "display_data",
          "data": {
            "text/plain": [
              "<Figure size 288x360 with 1 Axes>"
            ],
            "image/png": "[encoded data removed]"
          },
          "metadata": {}
        }
      ]
    },
    {
      "cell_type": "markdown",
      "source": [
        "#**Ejercicio-2.**"
      ],
      "metadata": {
        "id": "xZhr2hkECzVv"
      }
    },
    {
      "cell_type": "markdown",
      "source": [
        "2. Realiza una partición de los datos en el conjunto de entrenamiento del 85% y el de prueba de 15%. Los modelos se estarán entrenando con el método de validación cruzada, así que no es necesario en este paso generar el conjunto de validación. Define como la variable X a todas las\n",
        "variables de entrada y a la variable Y como la variable de salida."
      ],
      "metadata": {
        "id": "uNiAXg6CuAEn"
      }
    },
    {
      "cell_type": "code",
      "source": [
        "# Dividiendo los conjuntos de entrenamiento-validación y prueba\n",
        "\n",
        "X = df.drop(['riesgo_crediticio'], axis=1)\n",
        "Y = df['riesgo_crediticio']\n",
        "Y.column = ['riesgo_crediticio']\n",
        "print('Data frame X:\\n',X.head(2))\n",
        "print('\\n- - - - - - - - - - - - - - - - - - - - - - - - - - -  \\n Data frame y:\\n',Y.head(2))\n",
        "\n",
        "# Se utiliza la función train_test_split de scikit-learn para obtener una partición\n",
        "# del 85% como conjunto de entrenamiento-validación y 15% para el conjunto de prueba. \n",
        "# Se utiliza además una semilla igual a 7.\n",
        "Xtv, Xtest, Ytv, Ytest = train_test_split(X,Y,test_size=0.15,random_state=7)\n",
        "print('\\n- - - - - - - - - - - - - - - - - - - - - - - - - - - - - - - - ')\n",
        "print('Tamaño data frame entrenamiento-validación Xtv:',len(Xtv))\n",
        "print('Tamaño data frame prueba Xtest:',len(Xtest))\n",
        "print('Tamaño data frame entrenamiento-validación ytv:',len(Ytv))\n",
        "print('Tamaño data frame prueba ytest:',len(Ytest))\n",
        "# Invirtiendo la salida para que se corresponda con la variable de interes riesgp créditicio malo \n",
        "Ytv_inv = (Ytv - 1) * (-1)\n",
        "Ytest_inv = (Ytest - 1) * (-1)\n",
        "#print('Ytv:\\n',Ytv)\n",
        "#print('Ytv_inv:\\n',Ytv_inv)"
      ],
      "metadata": {
        "id": "kGfAoOPkC1PP",
        "colab": {
          "base_uri": "https://localhost:8080/"
        },
        "outputId": "a23796b4-8a7f-43a2-d2ee-44135e9ab30b"
      },
      "execution_count": 9,
      "outputs": [
        {
          "output_type": "stream",
          "name": "stdout",
          "text": [
            "Data frame X:\n",
            "    estatus_de_cuenta  tiempo_corriente  historial_de_crédito  \\\n",
            "0                  1                18                     4   \n",
            "1                  1                 9                     4   \n",
            "\n",
            "   propósito_de_crédito  cantidad_crédito  ahorros  duración_de_empleo  \\\n",
            "0                     2              1049        1                   2   \n",
            "1                     0              2799        1                   3   \n",
            "\n",
            "   tasa_de_cuota  estado_civil  otros_deudores  tiempo_de_residencia  \\\n",
            "0              4             2               1                     4   \n",
            "1              2             3               1                     2   \n",
            "\n",
            "   propiedades  edad  otros_planes_de_pagos  vivienda  número_de_créditos  \\\n",
            "0            2    21                      3         1                   1   \n",
            "1            1    36                      3         1                   2   \n",
            "\n",
            "   empleo  personas_dependientes  teléfono  trabajador_extranjero  \n",
            "0       3                      2         1                      2  \n",
            "1       3                      1         1                      2  \n",
            "\n",
            "- - - - - - - - - - - - - - - - - - - - - - - - - - -  \n",
            " Data frame y:\n",
            " 0    1\n",
            "1    1\n",
            "Name: riesgo_crediticio, dtype: int64\n",
            "\n",
            "- - - - - - - - - - - - - - - - - - - - - - - - - - - - - - - - \n",
            "Tamaño data frame entrenamiento-validación Xtv: 850\n",
            "Tamaño data frame prueba Xtest: 150\n",
            "Tamaño data frame entrenamiento-validación ytv: 850\n",
            "Tamaño data frame prueba ytest: 150\n"
          ]
        }
      ]
    },
    {
      "cell_type": "markdown",
      "source": [
        "#**Ejercicio-3.**"
      ],
      "metadata": {
        "id": "NCunuooTC2W3"
      }
    },
    {
      "cell_type": "markdown",
      "source": [
        "3. Como una primera aproximación (baseline) realizarás las siguientes transformaciones mínimas para generar los primeros modelos. En la misma página de la UCI se indica el tipo de variable de cada uno de los factores. Definen cuatro tipo de variables: categórica (categorical), ordinal (discretized quantitative), numérica (quantitative) y binaria (binary). Con base a dicha\n",
        "información realiza un Pipeline que incluya al menos las siguientes transformaciones:\n",
        "* a. Imputación a todas las variables de entrada, diferenciando entre el tipo de cada variable (decide y justifica que tipo de imputación realizas en cada caso).\n",
        "* b. Realiza un análisis de las variables numéricas (quantitative) de entrada y aplica una transformación que escale a todas ellas en un rango equiparable.\n",
        "* c. Aplica la transformación One-Hot encoding a las variables de entrada de tipo categórico y binaria. En particular, justifica por qué una variable binaria requeriría que se le aplique la transformación one-hot encoding. Por el momento dejar las variables ordinales sin transformar."
      ],
      "metadata": {
        "id": "0lM8FBxUuGpm"
      }
    },
    {
      "cell_type": "code",
      "source": [
        "# Transformaciones mínimas para generar los primeros modelos.\n",
        "# Identificación de variables.\n",
        "cate_pipeline_nom = ['estatus_de_cuenta', 'historial_de_crédito', 'propósito_de_crédito',\n",
        "                     'ahorros', 'estado_civil', 'otros_deudores', 'otros_planes_de_pagos',\n",
        "                     'vivienda']\n",
        "\n",
        "ordi_pipeline_nom = ['duración_de_empleo', 'tasa_de_cuota', 'tiempo_de_residencia', \n",
        "                     'propiedades', 'número_de_créditos', 'empleo' ]\n",
        "\n",
        "cuan_pipeline_nom = ['tiempo_corriente', 'cantidad_crédito', 'edad']\n",
        "\n",
        "bina_pipeline_nom = ['personas_dependientes', 'teléfono', 'trabajador_extranjero']\n",
        "\n",
        "cabi_pipeline_nombres = ['estatus_de_cuenta', 'historial_de_crédito', 'propósito_de_crédito',\n",
        "                     'ahorros', 'estado_civil', 'otros_deudores', 'otros_planes_de_pagos',\n",
        "                     'vivienda', 'personas_dependientes', 'teléfono', 'trabajador_extranjero']\n",
        "# - - - - - - - - - - - - - - - - - - - - - - - - - - - - - - - - - - - - - - - - \n",
        "# a.imputación\n",
        "\n",
        "# Transformaciones a factores categóricos de entrada:\n",
        "cate_pipeline = Pipeline(steps = [('impModa', SimpleImputer(strategy='most_frequent'))])  \n",
        "ordi_pipeline = Pipeline(steps = [('impModa', SimpleImputer(strategy='most_frequent'))])\n",
        "bina_pipeline = Pipeline(steps = [('impModa', SimpleImputer(strategy='most_frequent'))])\n",
        "cuan_pipeline = Pipeline(steps= [('imp_mediana', SimpleImputer(strategy='median'))])\n",
        "\n",
        "# - - - - - - - - - - - - - - - - - - - - - - - - - - - - - - - - - - - - - - - - \n",
        "# b. Transformación de escala a variables númericas\n",
        "\n",
        "#cuan_pipeline_norm = Pipeline(steps= [('norm_z_score', StandardScaler(copy=False)),\n",
        "#                                      ('log', FunctionTransformer(np.log))])\n",
        "\n",
        "cuan_pipeline_norm = Pipeline(steps= [('escalaNum', MinMaxScaler(feature_range=(1,2))),\n",
        "                                      ('sqrt', FunctionTransformer(np.sqrt))])\n",
        "''' COLOCAR EL SUSTENTO DEL PORQUÉ '''\n",
        "\n",
        "# - - - - - - - - - - - - - - - - - - - - - - - - - - - - - - - - - - - - - - - - \n",
        "# c. Transformación One-Hot encoding\n",
        "\n",
        "cabi_pipeline = Pipeline(steps = [('OneHotE', OneHotEncoder(drop='first'))])\n",
        "#cabi_pipeline_nombres = ['estatus_de_cuenta', 'historial_de_crédito','estado_civil', \n",
        "#                         'otros_planes_de_pagos','personas_dependientes']\n",
        "\n",
        "# - - - - - - - - - - - - - - - - - - - - - - - - - - - - - - - - - - - - - - - - \n",
        "# Conjuntamos las transformaciones numéricas y categóricas que se estarán aplicando a los datos de entrada:\n",
        "columnasTransformer = ColumnTransformer(transformers = [('catepipe', cate_pipeline, cate_pipeline_nom),\n",
        "                                                        ('ordipipe', ordi_pipeline, ordi_pipeline_nom),\n",
        "                                                        ('binapipe', bina_pipeline, bina_pipeline_nom),\n",
        "                                                        ('cuanpipe', cuan_pipeline, cuan_pipeline_nom),\n",
        "                                                        ('cabipipe', cabi_pipeline, cabi_pipeline_nombres),\n",
        "                                                        ('normpipe', cuan_pipeline_norm, cuan_pipeline_nom)],\n",
        "                                        remainder='passthrough')\n",
        "\n",
        "# ('normpipe', cuan_pipeline_norm, cuan_pipeline_nom)\n",
        "# ('cabipipe', cabi_pipeline, cabi_pipeline_nombres)\n",
        "\n",
        "print(columnasTransformer)"
      ],
      "metadata": {
        "id": "YXlcSWA-C4Dj",
        "colab": {
          "base_uri": "https://localhost:8080/"
        },
        "outputId": "01a45062-1d28-4187-f0b4-c445acfe6fe0"
      },
      "execution_count": 10,
      "outputs": [
        {
          "output_type": "stream",
          "name": "stdout",
          "text": [
            "ColumnTransformer(remainder='passthrough',\n",
            "                  transformers=[('catepipe',\n",
            "                                 Pipeline(steps=[('impModa',\n",
            "                                                  SimpleImputer(strategy='most_frequent'))]),\n",
            "                                 ['estatus_de_cuenta', 'historial_de_crédito',\n",
            "                                  'propósito_de_crédito', 'ahorros',\n",
            "                                  'estado_civil', 'otros_deudores',\n",
            "                                  'otros_planes_de_pagos', 'vivienda']),\n",
            "                                ('ordipipe',\n",
            "                                 Pipeline(steps=[('impModa',\n",
            "                                                  SimpleImputer(strategy='mos...\n",
            "                                 ['estatus_de_cuenta', 'historial_de_crédito',\n",
            "                                  'propósito_de_crédito', 'ahorros',\n",
            "                                  'estado_civil', 'otros_deudores',\n",
            "                                  'otros_planes_de_pagos', 'vivienda',\n",
            "                                  'personas_dependientes', 'teléfono',\n",
            "                                  'trabajador_extranjero']),\n",
            "                                ('normpipe',\n",
            "                                 Pipeline(steps=[('escalaNum',\n",
            "                                                  MinMaxScaler(feature_range=(1,\n",
            "                                                                              2))),\n",
            "                                                 ('sqrt',\n",
            "                                                  FunctionTransformer(func=<ufunc 'sqrt'>))]),\n",
            "                                 ['tiempo_corriente', 'cantidad_crédito',\n",
            "                                  'edad'])])\n"
          ]
        }
      ]
    },
    {
      "cell_type": "code",
      "source": [
        "# Viendo el nuevo dataframe creado con las transformaciones realizadas\n",
        "\n",
        "# Xx = columnasTransformer.fit_transformer(Xtv) Se puede utilizar tambien está función\n",
        "Xx = columnasTransformer.fit(Xtv)\n",
        "#print('Xx:\\n',Xx)\n",
        "dfXx = pd.DataFrame(Xx.transform(Xtv))\n",
        "print('Data frame Xx:\\n',dfXx)\n",
        "#print('\\n - - - - - - - - - - - - - - - - - - - - - - - - - - - -\\n')\n",
        "#print('Xtv:\\n',Xtv)"
      ],
      "metadata": {
        "id": "BKI80-YdC4HN",
        "colab": {
          "base_uri": "https://localhost:8080/"
        },
        "outputId": "7212a08f-b043-41bc-fee8-a3483ea2968f"
      },
      "execution_count": 11,
      "outputs": [
        {
          "output_type": "stream",
          "name": "stdout",
          "text": [
            "Data frame Xx:\n",
            "       0    1    2    3    4    5    6    7    8    9   ...   45   46   47  \\\n",
            "0    4.0  2.0  9.0  1.0  3.0  1.0  3.0  2.0  4.0  2.0  ...  0.0  1.0  1.0   \n",
            "1    2.0  2.0  0.0  1.0  3.0  1.0  1.0  2.0  2.0  4.0  ...  0.0  0.0  1.0   \n",
            "2    2.0  2.0  3.0  1.0  2.0  3.0  3.0  2.0  3.0  2.0  ...  0.0  1.0  1.0   \n",
            "3    4.0  0.0  9.0  1.0  3.0  1.0  2.0  2.0  3.0  2.0  ...  1.0  0.0  1.0   \n",
            "4    2.0  2.0  3.0  5.0  3.0  1.0  3.0  2.0  1.0  2.0  ...  0.0  1.0  1.0   \n",
            "..   ...  ...  ...  ...  ...  ...  ...  ...  ...  ...  ...  ...  ...  ...   \n",
            "845  1.0  2.0  3.0  5.0  2.0  1.0  3.0  2.0  4.0  4.0  ...  0.0  1.0  1.0   \n",
            "846  4.0  2.0  3.0  1.0  3.0  1.0  3.0  2.0  4.0  3.0  ...  0.0  1.0  1.0   \n",
            "847  4.0  4.0  0.0  1.0  3.0  1.0  3.0  2.0  4.0  2.0  ...  0.0  1.0  1.0   \n",
            "848  4.0  4.0  0.0  1.0  3.0  1.0  3.0  2.0  4.0  1.0  ...  0.0  1.0  1.0   \n",
            "849  4.0  2.0  3.0  3.0  1.0  1.0  3.0  2.0  5.0  3.0  ...  0.0  1.0  1.0   \n",
            "\n",
            "      48   49   50   51        52        53        54  \n",
            "0    0.0  1.0  1.0  1.0  1.057188  1.034935  1.144155  \n",
            "1    0.0  1.0  0.0  1.0  1.137593  1.027036  1.035725  \n",
            "2    0.0  1.0  0.0  1.0  1.014599  1.013744  1.348400  \n",
            "3    0.0  0.0  0.0  1.0  1.098127  1.102460  1.144155  \n",
            "4    0.0  1.0  1.0  1.0  1.057188  1.158506  1.264911  \n",
            "..   ...  ...  ...  ...       ...       ...       ...  \n",
            "845  0.0  1.0  1.0  1.0  1.248529  1.175153  1.095445  \n",
            "846  0.0  0.0  0.0  1.0  1.014599  1.036343  1.257704  \n",
            "847  0.0  0.0  0.0  1.0  1.000000  1.032620  1.190874  \n",
            "848  0.0  0.0  1.0  1.0  1.014599  1.165444  1.213560  \n",
            "849  0.0  1.0  1.0  1.0  1.137593  1.079002  1.144155  \n",
            "\n",
            "[850 rows x 55 columns]\n"
          ]
        }
      ]
    },
    {
      "cell_type": "code",
      "source": [
        "# Comprobando la normalización en las variables númericas.\n",
        "\n",
        "dfXx_cuan = pd.DataFrame({'tiempo_corriente': dfXx[52],\n",
        "                          'cantidad_crédito': dfXx[53],\n",
        "                          'edad': dfXx[54]})\n",
        "\n",
        "print('dfXx_cuan:\\n',dfXx_cuan)\n",
        "\n",
        "# Visualizando los histogramas de las variables númericas.\n",
        "sns.set(rc={'figure.figsize':(12.5,5)}) # (ancho-columnas, altura-renglones) Ajustemos el tamaño de la ventana \n",
        "                                        # que desplegará los gráficos usando la librería de seaborn (sns).\n",
        "fig, axes = plt.subplots(1, 3)          # Definimos una ventana de 3x3 nichos para incluir en cada uno de ellos un gráfico.\n",
        "var_numéricas = ['tiempo_corriente', 'cantidad_crédito', 'edad']\n",
        "k = 1\n",
        "for name in var_numéricas:\n",
        "  plt.subplot(1,3,k)                    # Los nichos para cada histograma se numeran iniciando en 1.\n",
        "  plt.hist(dfXx_cuan[name], bins=20)    # datatrain.columns nos devuelve una lista con los nombres de las columnas.\n",
        "  plt.xlabel(name)\n",
        "  k = k + 1\n",
        "plt.show()\n"
      ],
      "metadata": {
        "colab": {
          "base_uri": "https://localhost:8080/",
          "height": 611
        },
        "id": "mHttKaw30SFT",
        "outputId": "cbae49b4-7951-4a93-9d5e-c4a33be97bbe"
      },
      "execution_count": 12,
      "outputs": [
        {
          "output_type": "stream",
          "name": "stdout",
          "text": [
            "dfXx_cuan:\n",
            "      tiempo_corriente  cantidad_crédito      edad\n",
            "0            1.057188          1.034935  1.144155\n",
            "1            1.137593          1.027036  1.035725\n",
            "2            1.014599          1.013744  1.348400\n",
            "3            1.098127          1.102460  1.144155\n",
            "4            1.057188          1.158506  1.264911\n",
            "..                ...               ...       ...\n",
            "845          1.248529          1.175153  1.095445\n",
            "846          1.014599          1.036343  1.257704\n",
            "847          1.000000          1.032620  1.190874\n",
            "848          1.014599          1.165444  1.213560\n",
            "849          1.137593          1.079002  1.144155\n",
            "\n",
            "[850 rows x 3 columns]\n"
          ]
        },
        {
          "output_type": "display_data",
          "data": {
            "text/plain": [
              "<Figure size 900x360 with 3 Axes>"
            ],
            "image/png": "[encoded data removed]"
          },
          "metadata": {}
        }
      ]
    },
    {
      "cell_type": "markdown",
      "source": [
        "#**Ejercicio-4.**"
      ],
      "metadata": {
        "id": "chqk9jIDC5Pq"
      }
    },
    {
      "cell_type": "markdown",
      "source": [
        "4. Llevarás un entrenamiento usando validación cruzada entre los siguientes tres modelos de aprendizaje automático: Regresión Logística, Árbol de Decisión y Bosque Aleatorio. Deberás llevar a cabo el entrenamiento de los tres de manera conjunta usando un ciclo FOR. Recuerda aplicar las transformaciones que definiste en tu Pipeline. El entrenamiento debe ser con las\n",
        "siguientes características:\n",
        "* a. Usa los parámetros predeterminados de cada modelo.\n",
        "* b. En cada iteración deben calcularse todas las siguientes métricas: accuracy, precision, recall, f1-score y Gmean. Todas estas métricas deben ser funciones que tú mismo debes definir (Es decir, no usar las funciones de dichas métricas que te proporciona scikit-learn.\n",
        "Sin embargo, sí puedes usar la información regresada por el método confusion_matrix() de scikit-learn para definir las métricas).\n",
        "* c. Usar validación cruzada estratificada con 5 particiones y con 3 repeticiones.\n",
        "* d. Imprimir el valor de todas estas métricas, tanto para los datos de entrenamiento, como para los de validación. Así como los diagramas de caja y bigotes de los tres modelos con la métrica “recall”. ¿Alguno de los modelos está subentrenado o sobreentrenado? Justifica tu\n",
        "respuesta.\n",
        "* e. En particular obtengamos algunas de las llamadas curvas de aprendizaje para algunos de estos casos. En dada gráfico debes incluir tus comentarios sobre el modelo generado:\n",
        "* + i. Obtener las curvas de aprendizaje (learning_curve) en la cual se va incrementando el tamaño de la muestra para el modelo de regresión Logística con su hiperparámetros predeterminados. Utilizar al menos 20 puntos en la partición de los conjuntos de entrenamiento y la métrica “f1-score”, como evaluación del\n",
        "desempeño de dicha función “learning_curve()”.\n",
        "* + ii. Obtener las curvas de validación (validation_curve) en la cual se va incrementando la complejidad del hiperparámetro “max_depth” para el modelo de árbol de decisión con sus hiperparámetros predeterminados. Utilizar valores de máxima profundidad desde 1 hasta 20 y con la métrica “f1-score” para la evaluación del desempeño del modelo.\n",
        "* + iii. Obtener las curvas de aprendizaje (learning_curve) en la cual se va incrementando el tamaño de la muestra para el modelo de regresión bosque aleatorio (random forest) con su hiperparámetros predeterminados. Utilizar al menos 20 puntos en la partición de los conjuntos de entrenamiento y la métrica “recall”, como evaluación del desempeño del modelo."
      ],
      "metadata": {
        "id": "7gZfms3GuWhD"
      }
    },
    {
      "cell_type": "code",
      "source": [
        "Xtv"
      ],
      "metadata": {
        "colab": {
          "base_uri": "https://localhost:8080/",
          "height": 488
        },
        "id": "aDLaQ78KhgVG",
        "outputId": "b09c2f83-b5a3-4ee3-9c26-923bc91f4670"
      },
      "execution_count": 13,
      "outputs": [
        {
          "output_type": "execute_result",
          "data": {
            "text/plain": [
              "     estatus_de_cuenta  tiempo_corriente  historial_de_crédito  \\\n",
              "148                  4                12                     2   \n",
              "938                  2                24                     2   \n",
              "657                  2                 6                     2   \n",
              "836                  4                18                     0   \n",
              "998                  2                12                     2   \n",
              "..                 ...               ...                   ...   \n",
              "579                  1                42                     2   \n",
              "502                  4                 6                     2   \n",
              "537                  4                 4                     4   \n",
              "196                  4                 6                     4   \n",
              "175                  4                24                     2   \n",
              "\n",
              "     propósito_de_crédito  cantidad_crédito  ahorros  duración_de_empleo  \\\n",
              "148                     9              1542        1                   4   \n",
              "938                     0              1246        1                   2   \n",
              "657                     3               753        1                   3   \n",
              "836                     9              4165        1                   3   \n",
              "998                     3              6468        5                   1   \n",
              "..                    ...               ...      ...                 ...   \n",
              "579                     3              7174        5                   4   \n",
              "502                     3              1595        1                   4   \n",
              "537                     0              1455        1                   4   \n",
              "196                     0              6761        1                   4   \n",
              "175                     3              3235        3                   5   \n",
              "\n",
              "     tasa_de_cuota  estado_civil  otros_deudores  tiempo_de_residencia  \\\n",
              "148              2             3               1                     4   \n",
              "938              4             3               1                     2   \n",
              "657              2             2               3                     3   \n",
              "836              2             3               1                     2   \n",
              "998              2             3               1                     1   \n",
              "..             ...           ...             ...                   ...   \n",
              "579              4             2               1                     3   \n",
              "502              3             3               1                     2   \n",
              "537              2             3               1                     1   \n",
              "196              1             3               1                     3   \n",
              "175              3             1               1                     2   \n",
              "\n",
              "     propiedades  edad  otros_planes_de_pagos  vivienda  número_de_créditos  \\\n",
              "148            3    36                      3         2                   1   \n",
              "938            1    23                      1         2                   1   \n",
              "657            1    64                      3         2                   1   \n",
              "836            3    36                      2         2                   2   \n",
              "998            4    52                      3         2                   1   \n",
              "..           ...   ...                    ...       ...                 ...   \n",
              "579            3    30                      3         2                   1   \n",
              "502            2    51                      3         2                   1   \n",
              "537            1    42                      3         2                   3   \n",
              "196            4    45                      3         2                   2   \n",
              "175            3    36                      3         2                   1   \n",
              "\n",
              "     empleo  personas_dependientes  teléfono  trabajador_extranjero  \n",
              "148       3                      2         2                      2  \n",
              "938       2                      2         1                      2  \n",
              "657       3                      2         1                      2  \n",
              "836       3                      1         1                      2  \n",
              "998       4                      2         2                      2  \n",
              "..      ...                    ...       ...                    ...  \n",
              "579       4                      2         2                      2  \n",
              "502       3                      1         1                      2  \n",
              "537       2                      1         1                      2  \n",
              "196       4                      1         2                      2  \n",
              "175       4                      2         2                      2  \n",
              "\n",
              "[850 rows x 20 columns]"
            ],
            "text/html": [
              "\n",
              "  <div id=\"df-423324f8-5706-4ff2-9161-81e8f1ce66cd\">\n",
              "    <div class=\"colab-df-container\">\n",
              "      <div>\n",
              "<style scoped>\n",
              "    .dataframe tbody tr th:only-of-type {\n",
              "        vertical-align: middle;\n",
              "    }\n",
              "\n",
              "    .dataframe tbody tr th {\n",
              "        vertical-align: top;\n",
              "    }\n",
              "\n",
              "    .dataframe thead th {\n",
              "        text-align: right;\n",
              "    }\n",
              "</style>\n",
              "<table border=\"1\" class=\"dataframe\">\n",
              "  <thead>\n",
              "    <tr style=\"text-align: right;\">\n",
              "      <th></th>\n",
              "      <th>estatus_de_cuenta</th>\n",
              "      <th>tiempo_corriente</th>\n",
              "      <th>historial_de_crédito</th>\n",
              "      <th>propósito_de_crédito</th>\n",
              "      <th>cantidad_crédito</th>\n",
              "      <th>ahorros</th>\n",
              "      <th>duración_de_empleo</th>\n",
              "      <th>tasa_de_cuota</th>\n",
              "      <th>estado_civil</th>\n",
              "      <th>otros_deudores</th>\n",
              "      <th>tiempo_de_residencia</th>\n",
              "      <th>propiedades</th>\n",
              "      <th>edad</th>\n",
              "      <th>otros_planes_de_pagos</th>\n",
              "      <th>vivienda</th>\n",
              "      <th>número_de_créditos</th>\n",
              "      <th>empleo</th>\n",
              "      <th>personas_dependientes</th>\n",
              "      <th>teléfono</th>\n",
              "      <th>trabajador_extranjero</th>\n",
              "    </tr>\n",
              "  </thead>\n",
              "  <tbody>\n",
              "    <tr>\n",
              "      <th>148</th>\n",
              "      <td>4</td>\n",
              "      <td>12</td>\n",
              "      <td>2</td>\n",
              "      <td>9</td>\n",
              "      <td>1542</td>\n",
              "      <td>1</td>\n",
              "      <td>4</td>\n",
              "      <td>2</td>\n",
              "      <td>3</td>\n",
              "      <td>1</td>\n",
              "      <td>4</td>\n",
              "      <td>3</td>\n",
              "      <td>36</td>\n",
              "      <td>3</td>\n",
              "      <td>2</td>\n",
              "      <td>1</td>\n",
              "      <td>3</td>\n",
              "      <td>2</td>\n",
              "      <td>2</td>\n",
              "      <td>2</td>\n",
              "    </tr>\n",
              "    <tr>\n",
              "      <th>938</th>\n",
              "      <td>2</td>\n",
              "      <td>24</td>\n",
              "      <td>2</td>\n",
              "      <td>0</td>\n",
              "      <td>1246</td>\n",
              "      <td>1</td>\n",
              "      <td>2</td>\n",
              "      <td>4</td>\n",
              "      <td>3</td>\n",
              "      <td>1</td>\n",
              "      <td>2</td>\n",
              "      <td>1</td>\n",
              "      <td>23</td>\n",
              "      <td>1</td>\n",
              "      <td>2</td>\n",
              "      <td>1</td>\n",
              "      <td>2</td>\n",
              "      <td>2</td>\n",
              "      <td>1</td>\n",
              "      <td>2</td>\n",
              "    </tr>\n",
              "    <tr>\n",
              "      <th>657</th>\n",
              "      <td>2</td>\n",
              "      <td>6</td>\n",
              "      <td>2</td>\n",
              "      <td>3</td>\n",
              "      <td>753</td>\n",
              "      <td>1</td>\n",
              "      <td>3</td>\n",
              "      <td>2</td>\n",
              "      <td>2</td>\n",
              "      <td>3</td>\n",
              "      <td>3</td>\n",
              "      <td>1</td>\n",
              "      <td>64</td>\n",
              "      <td>3</td>\n",
              "      <td>2</td>\n",
              "      <td>1</td>\n",
              "      <td>3</td>\n",
              "      <td>2</td>\n",
              "      <td>1</td>\n",
              "      <td>2</td>\n",
              "    </tr>\n",
              "    <tr>\n",
              "      <th>836</th>\n",
              "      <td>4</td>\n",
              "      <td>18</td>\n",
              "      <td>0</td>\n",
              "      <td>9</td>\n",
              "      <td>4165</td>\n",
              "      <td>1</td>\n",
              "      <td>3</td>\n",
              "      <td>2</td>\n",
              "      <td>3</td>\n",
              "      <td>1</td>\n",
              "      <td>2</td>\n",
              "      <td>3</td>\n",
              "      <td>36</td>\n",
              "      <td>2</td>\n",
              "      <td>2</td>\n",
              "      <td>2</td>\n",
              "      <td>3</td>\n",
              "      <td>1</td>\n",
              "      <td>1</td>\n",
              "      <td>2</td>\n",
              "    </tr>\n",
              "    <tr>\n",
              "      <th>998</th>\n",
              "      <td>2</td>\n",
              "      <td>12</td>\n",
              "      <td>2</td>\n",
              "      <td>3</td>\n",
              "      <td>6468</td>\n",
              "      <td>5</td>\n",
              "      <td>1</td>\n",
              "      <td>2</td>\n",
              "      <td>3</td>\n",
              "      <td>1</td>\n",
              "      <td>1</td>\n",
              "      <td>4</td>\n",
              "      <td>52</td>\n",
              "      <td>3</td>\n",
              "      <td>2</td>\n",
              "      <td>1</td>\n",
              "      <td>4</td>\n",
              "      <td>2</td>\n",
              "      <td>2</td>\n",
              "      <td>2</td>\n",
              "    </tr>\n",
              "    <tr>\n",
              "      <th>...</th>\n",
              "      <td>...</td>\n",
              "      <td>...</td>\n",
              "      <td>...</td>\n",
              "      <td>...</td>\n",
              "      <td>...</td>\n",
              "      <td>...</td>\n",
              "      <td>...</td>\n",
              "      <td>...</td>\n",
              "      <td>...</td>\n",
              "      <td>...</td>\n",
              "      <td>...</td>\n",
              "      <td>...</td>\n",
              "      <td>...</td>\n",
              "      <td>...</td>\n",
              "      <td>...</td>\n",
              "      <td>...</td>\n",
              "      <td>...</td>\n",
              "      <td>...</td>\n",
              "      <td>...</td>\n",
              "      <td>...</td>\n",
              "    </tr>\n",
              "    <tr>\n",
              "      <th>579</th>\n",
              "      <td>1</td>\n",
              "      <td>42</td>\n",
              "      <td>2</td>\n",
              "      <td>3</td>\n",
              "      <td>7174</td>\n",
              "      <td>5</td>\n",
              "      <td>4</td>\n",
              "      <td>4</td>\n",
              "      <td>2</td>\n",
              "      <td>1</td>\n",
              "      <td>3</td>\n",
              "      <td>3</td>\n",
              "      <td>30</td>\n",
              "      <td>3</td>\n",
              "      <td>2</td>\n",
              "      <td>1</td>\n",
              "      <td>4</td>\n",
              "      <td>2</td>\n",
              "      <td>2</td>\n",
              "      <td>2</td>\n",
              "    </tr>\n",
              "    <tr>\n",
              "      <th>502</th>\n",
              "      <td>4</td>\n",
              "      <td>6</td>\n",
              "      <td>2</td>\n",
              "      <td>3</td>\n",
              "      <td>1595</td>\n",
              "      <td>1</td>\n",
              "      <td>4</td>\n",
              "      <td>3</td>\n",
              "      <td>3</td>\n",
              "      <td>1</td>\n",
              "      <td>2</td>\n",
              "      <td>2</td>\n",
              "      <td>51</td>\n",
              "      <td>3</td>\n",
              "      <td>2</td>\n",
              "      <td>1</td>\n",
              "      <td>3</td>\n",
              "      <td>1</td>\n",
              "      <td>1</td>\n",
              "      <td>2</td>\n",
              "    </tr>\n",
              "    <tr>\n",
              "      <th>537</th>\n",
              "      <td>4</td>\n",
              "      <td>4</td>\n",
              "      <td>4</td>\n",
              "      <td>0</td>\n",
              "      <td>1455</td>\n",
              "      <td>1</td>\n",
              "      <td>4</td>\n",
              "      <td>2</td>\n",
              "      <td>3</td>\n",
              "      <td>1</td>\n",
              "      <td>1</td>\n",
              "      <td>1</td>\n",
              "      <td>42</td>\n",
              "      <td>3</td>\n",
              "      <td>2</td>\n",
              "      <td>3</td>\n",
              "      <td>2</td>\n",
              "      <td>1</td>\n",
              "      <td>1</td>\n",
              "      <td>2</td>\n",
              "    </tr>\n",
              "    <tr>\n",
              "      <th>196</th>\n",
              "      <td>4</td>\n",
              "      <td>6</td>\n",
              "      <td>4</td>\n",
              "      <td>0</td>\n",
              "      <td>6761</td>\n",
              "      <td>1</td>\n",
              "      <td>4</td>\n",
              "      <td>1</td>\n",
              "      <td>3</td>\n",
              "      <td>1</td>\n",
              "      <td>3</td>\n",
              "      <td>4</td>\n",
              "      <td>45</td>\n",
              "      <td>3</td>\n",
              "      <td>2</td>\n",
              "      <td>2</td>\n",
              "      <td>4</td>\n",
              "      <td>1</td>\n",
              "      <td>2</td>\n",
              "      <td>2</td>\n",
              "    </tr>\n",
              "    <tr>\n",
              "      <th>175</th>\n",
              "      <td>4</td>\n",
              "      <td>24</td>\n",
              "      <td>2</td>\n",
              "      <td>3</td>\n",
              "      <td>3235</td>\n",
              "      <td>3</td>\n",
              "      <td>5</td>\n",
              "      <td>3</td>\n",
              "      <td>1</td>\n",
              "      <td>1</td>\n",
              "      <td>2</td>\n",
              "      <td>3</td>\n",
              "      <td>36</td>\n",
              "      <td>3</td>\n",
              "      <td>2</td>\n",
              "      <td>1</td>\n",
              "      <td>4</td>\n",
              "      <td>2</td>\n",
              "      <td>2</td>\n",
              "      <td>2</td>\n",
              "    </tr>\n",
              "  </tbody>\n",
              "</table>\n",
              "<p>850 rows × 20 columns</p>\n",
              "</div>\n",
              "      <button class=\"colab-df-convert\" onclick=\"convertToInteractive('df-423324f8-5706-4ff2-9161-81e8f1ce66cd')\"\n",
              "              title=\"Convert this dataframe to an interactive table.\"\n",
              "              style=\"display:none;\">\n",
              "        \n",
              "  <svg xmlns=\"http://www.w3.org/2000/svg\" height=\"24px\"viewBox=\"0 0 24 24\"\n",
              "       width=\"24px\">\n",
              "    <path d=\"M0 0h24v24H0V0z\" fill=\"none\"/>\n",
              "    <path d=\"M18.56 5.44l.94 2.06.94-2.06 2.06-.94-2.06-.94-.94-2.06-.94 2.06-2.06.94zm-11 1L8.5 8.5l.94-2.06 2.06-.94-2.06-.94L8.5 2.5l-.94 2.06-2.06.94zm10 10l.94 2.06.94-2.06 2.06-.94-2.06-.94-.94-2.06-.94 2.06-2.06.94z\"/><path d=\"M17.41 7.96l-1.37-1.37c-.4-.4-.92-.59-1.43-.59-.52 0-1.04.2-1.43.59L10.3 9.45l-7.72 7.72c-.78.78-.78 2.05 0 2.83L4 21.41c.39.39.9.59 1.41.59.51 0 1.02-.2 1.41-.59l7.78-7.78 2.81-2.81c.8-.78.8-2.07 0-2.86zM5.41 20L4 18.59l7.72-7.72 1.47 1.35L5.41 20z\"/>\n",
              "  </svg>\n",
              "      </button>\n",
              "      \n",
              "  <style>\n",
              "    .colab-df-container {\n",
              "      display:flex;\n",
              "      flex-wrap:wrap;\n",
              "      gap: 12px;\n",
              "    }\n",
              "\n",
              "    .colab-df-convert {\n",
              "      background-color: #E8F0FE;\n",
              "      border: none;\n",
              "      border-radius: 50%;\n",
              "      cursor: pointer;\n",
              "      display: none;\n",
              "      fill: #1967D2;\n",
              "      height: 32px;\n",
              "      padding: 0 0 0 0;\n",
              "      width: 32px;\n",
              "    }\n",
              "\n",
              "    .colab-df-convert:hover {\n",
              "      background-color: #E2EBFA;\n",
              "      box-shadow: 0px 1px 2px rgba(60, 64, 67, 0.3), 0px 1px 3px 1px rgba(60, 64, 67, 0.15);\n",
              "      fill: #174EA6;\n",
              "    }\n",
              "\n",
              "    [theme=dark] .colab-df-convert {\n",
              "      background-color: #3B4455;\n",
              "      fill: #D2E3FC;\n",
              "    }\n",
              "\n",
              "    [theme=dark] .colab-df-convert:hover {\n",
              "      background-color: #434B5C;\n",
              "      box-shadow: 0px 1px 3px 1px rgba(0, 0, 0, 0.15);\n",
              "      filter: drop-shadow(0px 1px 2px rgba(0, 0, 0, 0.3));\n",
              "      fill: #FFFFFF;\n",
              "    }\n",
              "  </style>\n",
              "\n",
              "      <script>\n",
              "        const buttonEl =\n",
              "          document.querySelector('#df-423324f8-5706-4ff2-9161-81e8f1ce66cd button.colab-df-convert');\n",
              "        buttonEl.style.display =\n",
              "          google.colab.kernel.accessAllowed ? 'block' : 'none';\n",
              "\n",
              "        async function convertToInteractive(key) {\n",
              "          const element = document.querySelector('#df-423324f8-5706-4ff2-9161-81e8f1ce66cd');\n",
              "          const dataTable =\n",
              "            await google.colab.kernel.invokeFunction('convertToInteractive',\n",
              "                                                     [key], {});\n",
              "          if (!dataTable) return;\n",
              "\n",
              "          const docLinkHtml = 'Like what you see? Visit the ' +\n",
              "            '<a target=\"_blank\" href=https://colab.research.google.com/notebooks/data_table.ipynb>data table notebook</a>'\n",
              "            + ' to learn more about interactive tables.';\n",
              "          element.innerHTML = '';\n",
              "          dataTable['output_type'] = 'display_data';\n",
              "          await google.colab.output.renderOutput(dataTable, element);\n",
              "          const docLink = document.createElement('div');\n",
              "          docLink.innerHTML = docLinkHtml;\n",
              "          element.appendChild(docLink);\n",
              "        }\n",
              "      </script>\n",
              "    </div>\n",
              "  </div>\n",
              "  "
            ]
          },
          "metadata": {},
          "execution_count": 13
        }
      ]
    },
    {
      "cell_type": "code",
      "source": [
        "# Entrenando el modelo basado en: Regresión Logística, Árbol de Decisión y Bosque Aleatorio.\n",
        "\n",
        "# - - - - - - - - - - - - - - - - - - - - - - - - - - - - - - - - - - - - - - - - \n",
        "# a. Estableciendo los parametros x default de Regresión Logística, Árbol de Decisión y Bosque Aleatorio.\n",
        "modelos = []\n",
        "modelos.append(('LogisticRegression', LogisticRegression(solver='liblinear')))\n",
        "modelos.append(('DecisionTreeClassi', DecisionTreeClassifier()))\n",
        "modelos.append(('RandomForestClassi', RandomForestClassifier()))\n",
        "\n",
        "# - - - - - - - - - - - - - - - - - - - - - - - - - - - - - - - - - - - - - - - - \n",
        "# b. Calcular las métricas: accuracy, precision, recall, f1-score y Gmean\n",
        "def exactitud_(Yreal, Ypred):\n",
        "  vn, fp, fn, vp = confusion_matrix(Yreal, Ypred).ravel() #print('vn:  ',vn,'fp:  ',fp,'fn:  ',fn,'vp:  ',vp)\n",
        "  exactitud = (vp + vn) / (vp + vn + fp + fn) #print('vn:',vn,'  fp:',fp,'  fn:',fn,'  vp:',vp,'  denominador:',(vp + vn + fp + fn))\n",
        "  return exactitud\n",
        "\n",
        "def precision_(Yreal, Ypred):\n",
        "  vn, fp, fn, vp = confusion_matrix(Yreal, Ypred).ravel() #print('vn:  ',vn,'fp:  ',fp,'fn:  ',fn,'vp:  ',vp)\n",
        "  precision = vp / (vp + fp) #print('vn:',vn,'  fp:',fp,'  fn:',fn,'  vp:',vp,'  denominador:', (vp + fp))\n",
        "  return precision\n",
        "\n",
        "def recall_(Yreal, Ypred):\n",
        "  vn, fp, fn, vp = confusion_matrix(Yreal, Ypred).ravel() #print('vn:  ',vn,'fp:  ',fp,'fn:  ',fn,'vp:  ',vp)\n",
        "  recall = vp / (vp + fn) #print('vn:',vn,'  fp:',fp,'  fn:',fn,'  vp:',vp,'  denominador:', (vp + fn))\n",
        "  return recall\n",
        "\n",
        "def f1_score_(Yreal, Ypred):\n",
        "  vn, fp, fn, vp = confusion_matrix(Yreal, Ypred).ravel() #print('vn:  ',vn,'fp:  ',fp,'fn:  ',fn,'vp:  ',vp)\n",
        "  f1_score = 2*vp / ((2*vp) + fp +fn) #print('vn:',vn,'  fp:',fp,'  fn:',fn,'  vp:',vp,'  denominador:', ((2*vp) + fp +fn))\n",
        "  return f1_score\n",
        "\n",
        "def Gmean_(Yreal, Ypred):\n",
        "  vn, fp, fn, vp = confusion_matrix(Yreal, Ypred).ravel() #print('vn:  ',vn,'fp:  ',fp,'fn:  ',fn,'vp:  ',vp)\n",
        "  Gmean = np.sqrt( (vp / (vp + fn)) * vn / (vn + fp)) #print('vn:',vn,'  fp:',fp,'  fn:',fn,'  vp:',vp,'  denominador:', (vp + fn), ' - ', (vn + fp))\n",
        "  return Gmean\n",
        "\n",
        "# - - - - - - - - - - - - - - - - - - - - - - - - - - - - - - - - - - - - - - - - \n",
        "# c. Definimos la validación cruzada estratificada con 5 particiones y con 3 repeticiones\n",
        "\n",
        "kfold = RepeatedStratifiedKFold(n_splits=5, n_repeats=7) # , random_state=7\n",
        "resultados = list()\n",
        "mis_metricas = {'accuracy': make_scorer(exactitud_),\n",
        "                'precision': make_scorer(precision_),\n",
        "                'recall': make_scorer(recall_),\n",
        "                'f1score': make_scorer(f1_score_),\n",
        "                'gmean': make_scorer(Gmean_)}\n",
        "\n",
        "for name, model in modelos:       # entrenando al modelo seleccionado y obteniendo sus predicciones.\n",
        "  print('\\n - - - - - - - - - - - - - - - - - - - - - - - - - - - -\\n')\n",
        "  print('Modelo a entrenar con cross_validation: %s' % model,'\\n')\n",
        "  pipeline = Pipeline( steps=[('transforma_columnas', columnasTransformer), ('modelos_a_probar', model)])\n",
        "  scores = cross_validate(pipeline, Xtv, Ytv, scoring= mis_metricas, cv= kfold, return_train_score= True)\n",
        "  resultados.append(scores)\n",
        "# - - - - - - - - - - - - - - - - - - - - - - - - - - - - - - - - - - - - - - - - \n",
        "# d. Visualizando las métricas con los datos de entrenamiento y validación.\n",
        "#    Visualizando los diagramas de caja y bigotes de los tres modelos con la métrica “recall”.\n",
        "\n",
        "# Imprimiendo resultados\n",
        "  nombres_scores = ['accuracy', 'recision', 'recall', 'f1score', 'gmean']\n",
        "  round(np.mean(resultados[(0)]['test_accuracy']),2)\n",
        "  print('\\n - - - - - - - - - - - - - - - - - - - - - - - - - - - -\\n')\n",
        "  print('Resultados del modelo \"%s\"' % model,'entrenado.\\n')\n",
        "  print('Entrenamiento -  accuracy mean:%s  ,  std:%s' %(round(np.mean(resultados[(0)]['test_accuracy']),3), round(np.std(resultados[(0)]['test_accuracy']),3)))\n",
        "  print('Validación    -  accuracy mean:%s  ,  std:%s' %(round(np.mean(resultados[(0)]['train_accuracy']),3), round(np.std(resultados[(0)]['train_accuracy']),3)))\n",
        "  \n",
        "  print('Entrenamiento - precision mean:%s  ,  std:%s' %(round(np.mean(resultados[(0)]['test_precision']),3), round(np.std(resultados[(0)]['test_precision']),3)))\n",
        "  print('Validación    - precision mean:%s  ,  std:%s' %(round(np.mean(resultados[(0)]['train_precision']),3), round(np.std(resultados[(0)]['train_precision']),3)))\n",
        "  \n",
        "  print('Entrenamiento -    recall mean:%s  ,  std:%s' %(round(np.mean(resultados[(0)]['test_recall']),3), round(np.std(resultados[(0)]['test_recall']),3)))\n",
        "  print('Validación    -    recall mean:%s  ,  std:%s' %(round(np.mean(resultados[(0)]['train_recall']),3), round(np.std(resultados[(0)]['train_recall']),3)))\n",
        "  \n",
        "  print('Entrenamiento -   f1score mean:%s  ,  std:%s' %(round(np.mean(resultados[(0)]['test_f1score']),3), round(np.std(resultados[(0)]['test_f1score']),3)))\n",
        "  print('Validación    -   f1score mean:%s  ,  std:%s' %(round(np.mean(resultados[(0)]['train_f1score']),3), round(np.std(resultados[(0)]['train_f1score']),3)))\n",
        "  \n",
        "  print('Entrenamiento -     gmean mean:%s  ,  std:%s' %(round(np.mean(resultados[(0)]['test_gmean']),3), round(np.std(resultados[(0)]['test_gmean']),3)))\n",
        "  print('Validación    -     gmean mean:%s  ,  std:%s' %(round(np.mean(resultados[(0)]['train_gmean']),3), round(np.std(resultados[(0)]['train_gmean']),3)))\n",
        "\n",
        "#    Responde: ¿Alguno de los modelos está subentrenado o sobreentrenado?\n",
        "# - - - - - - - - - - - - - - - - - - - - - - - - - - - - - - - - - - - - - - - - \n",
        "\n",
        "# - - - - - - - - - - - - - - - - - - - - - - - - - - - - - - - - - - - - - - - - \n",
        "# e. Obteniendo curvas de aprendizaje:\n",
        "\n"
      ],
      "metadata": {
        "id": "RBVSFwK4C6g9",
        "colab": {
          "base_uri": "https://localhost:8080/"
        },
        "outputId": "c04c4c27-1250-4a67-cd44-927e8f6b8aec"
      },
      "execution_count": 18,
      "outputs": [
        {
          "output_type": "stream",
          "name": "stdout",
          "text": [
            "\n",
            " - - - - - - - - - - - - - - - - - - - - - - - - - - - -\n",
            "\n",
            "Modelo a entrenar con cross_validation: LogisticRegression(solver='liblinear') \n",
            "\n",
            "\n",
            " - - - - - - - - - - - - - - - - - - - - - - - - - - - -\n",
            "\n",
            "Resultados del modelo \"LogisticRegression(solver='liblinear')\" entrenado.\n",
            "\n",
            "Entrenamiento -  accuracy mean:0.763 , std:0.029\n",
            "Validación    -  accuracy mean:0.793 , std:0.01\n",
            "Entrenamiento - precision mean:0.802 , std:0.022\n",
            "Validación    - precision mean:0.82 , std:0.008\n",
            "Entrenamiento -    recall mean:0.885 , std:0.027\n",
            "Validación    -    recall mean:0.907 , std:0.008\n",
            "Entrenamiento -   f1score mean:0.841  , std:0.02\n",
            "Validación    -   f1score mean:0.861 , std:0.007\n",
            "Entrenamiento -     gmean mean:0.64  , std:0.05\n",
            "Validación    -     gmean mean:0.683 , std:0.018\n",
            "\n",
            " - - - - - - - - - - - - - - - - - - - - - - - - - - - -\n",
            "\n",
            "Modelo a entrenar con cross_validation: DecisionTreeClassifier() \n",
            "\n",
            "\n",
            " - - - - - - - - - - - - - - - - - - - - - - - - - - - -\n",
            "\n",
            "Resultados del modelo \"DecisionTreeClassifier()\" entrenado.\n",
            "\n",
            "Entrenamiento -  accuracy mean:0.763 , std:0.029\n",
            "Validación    -  accuracy mean:0.793 , std:0.01\n",
            "Entrenamiento - precision mean:0.802 , std:0.022\n",
            "Validación    - precision mean:0.82 , std:0.008\n",
            "Entrenamiento -    recall mean:0.885 , std:0.027\n",
            "Validación    -    recall mean:0.907 , std:0.008\n",
            "Entrenamiento -   f1score mean:0.841  , std:0.02\n",
            "Validación    -   f1score mean:0.861 , std:0.007\n",
            "Entrenamiento -     gmean mean:0.64  , std:0.05\n",
            "Validación    -     gmean mean:0.683 , std:0.018\n",
            "\n",
            " - - - - - - - - - - - - - - - - - - - - - - - - - - - -\n",
            "\n",
            "Modelo a entrenar con cross_validation: RandomForestClassifier() \n",
            "\n",
            "\n",
            " - - - - - - - - - - - - - - - - - - - - - - - - - - - -\n",
            "\n",
            "Resultados del modelo \"RandomForestClassifier()\" entrenado.\n",
            "\n",
            "Entrenamiento -  accuracy mean:0.763 , std:0.029\n",
            "Validación    -  accuracy mean:0.793 , std:0.01\n",
            "Entrenamiento - precision mean:0.802 , std:0.022\n",
            "Validación    - precision mean:0.82 , std:0.008\n",
            "Entrenamiento -    recall mean:0.885 , std:0.027\n",
            "Validación    -    recall mean:0.907 , std:0.008\n",
            "Entrenamiento -   f1score mean:0.841  , std:0.02\n",
            "Validación    -   f1score mean:0.861 , std:0.007\n",
            "Entrenamiento -     gmean mean:0.64  , std:0.05\n",
            "Validación    -     gmean mean:0.683 , std:0.018\n"
          ]
        }
      ]
    },
    {
      "cell_type": "code",
      "source": [
        "# - - - - - - - - - - - - - - - - - - - - - - - - - - - - - - - - - - - - - - - - \n",
        "# e. Obteniendo curvas de aprendizaje:\n",
        "\n",
        "# e. En particular obtengamos algunas de las llamadas curvas de aprendizaje para algunos de estos casos.\n",
        "#    En dada gráfico debes incluir tus comentarios sobre el modelo generado:\n",
        "#      i. Obtener las curvas de aprendizaje (learning_curve) en la cual se va incrementando el tamaño de \n",
        "#         la muestra para el modelo de regresión Logística con su hiperparámetros predeterminados. \n",
        "#         Utilizar al menos 20 puntos en la partición de los conjuntos de entrenamiento y la métrica “f1-score”, \n",
        "#         como evaluación del desempeño de dicha función “learning_curve()”.\n",
        "#     ii. Obtener las curvas de validación (validation_curve) en la cual se va incrementando la complejidad del\n",
        "#         hiperparámetro “max_depth” para el modelo de árbol de decisión con sus hiperparámetros predeterminados. \n",
        "#         Utilizar valores de máxima profundidad desde 1 hasta 20 y con la métrica “f1-score” para la evaluación \n",
        "#         del desempeño del modelo.\n",
        "#    iii. Obtener las curvas de aprendizaje (learning_curve) en la cual se va incrementando el tamaño de la\n",
        "#         muestra para el modelo de regresión bosque aleatorio (random forest) con su hiperparámetros predeterminados. \n",
        "#         Utilizar al menos 20 puntos en la partición de los conjuntos de entrenamiento y la métrica “recall”, \n",
        "#         como evaluación del desempeño del modelo.\n",
        "\n",
        "\n"
      ],
      "metadata": {
        "id": "r88FV__lCBKP"
      },
      "execution_count": null,
      "outputs": []
    },
    {
      "cell_type": "code",
      "source": [
        "resultados[(0)]\n",
        "round(np.mean(resultados[(0)]['test_accuracy']),2)"
      ],
      "metadata": {
        "id": "Sb2b-pxnfkhP",
        "colab": {
          "base_uri": "https://localhost:8080/"
        },
        "outputId": "f0407b04-3ed9-4b71-d75d-2f194cb9f674"
      },
      "execution_count": null,
      "outputs": [
        {
          "output_type": "execute_result",
          "data": {
            "text/plain": [
              "0.76"
            ]
          },
          "metadata": {},
          "execution_count": 73
        }
      ]
    },
    {
      "cell_type": "code",
      "source": [
        "# Entrenando el modelo basado en: Regresión Logística, Árbol de Decisión y Bosque Aleatorio.\n",
        "\n",
        "# - - - - - - - - - - - - - - - - - - - - - - - - - - - - - - - - - - - - - - - - \n",
        "# a. Estableciendo los parametros x default de Regresión Logística, Árbol de Decisión y Bosque Aleatorio.\n",
        "modelos = []\n",
        "modelos.append(('LogisticRegression', LogisticRegression(max_iter=1000)))\n",
        "modelos.append(('DecisionTreeClassi', DecisionTreeClassifier()))\n",
        "modelos.append(('RandomForestClassi', RandomForestClassifier()))\n",
        "\n",
        "yhat0 = []   # predicciones del modelo LogisticRegression\n",
        "yhat1 = []   # predicciones del modelo DecisionTreeClassfier\n",
        "yhat2 = []   # predicciones del modelo RandomForestClassifier\n",
        "\n",
        "# - - - - - - - - - - - - - - - - - - - - - - - - - - - - - - - - - - - - - - - - \n",
        "# b. Calcular todas las siguientes métricas: accuracy, precision, recall, f1-score y Gmean\n",
        "def metricas(Yreal, Ypred):\n",
        "  vn, fp, fn, vp = confusion_matrix(Yreal, Ypred).ravel()\n",
        "  print('vn:  ',vn,'fp:  ',fp,'fn:  ',fn,'vp:  ',vp)\n",
        "  exactitud = (vp + vn) / (vp + vn + fp + fn)\n",
        "  precision = vp / (vp + fp)\n",
        "  recall = vp / (fp + fn)\n",
        "  f1_score = 2*vp / (2*vp + fp +fn)\n",
        "  Gmean = np.sqrt(recall * vn / (vn + fp))\n",
        "  print('Exactitud:',exactitud,'  Precision:',precision,'  Recall:',recall,'  f1_score:',f1_score,'  Gmean:',Gmean)\n",
        "  return exactitud, precision, recall, f1_score, Gmean\n",
        "\n",
        "# - - - - - - - - - - - - - - - - - - - - - - - - - - - - - - - - - - - - - - - - \n",
        "for name, model in modelos:       # entrenando al modelo seleccionado y obteniendo sus predicciones.\n",
        "  print(\"Parametrós del modelo: %s\" % model)\n",
        "  #print(\"%s:\" % name)\n",
        "  \n",
        "  mm = model.fit(dfXx, np.ravel(Ytv_inv))\n",
        "  yhat = mm.predict(dfXx)\n",
        "\n",
        "  if name == 'LogisticRegression':\n",
        "    yhat0.append(yhat)\n",
        "    exac, prec, reca, f1sc, gmea = metricas(Ytv_inv, yhat)\n",
        "    #print('\\nExactitud:%.3f%' % exac)\n",
        "    #print('Exactitud:',exac,'  Precision:',prec,'  Recall:',reca,'  f1_score:',f1sc,'  Gmean:',gmea)\n",
        "    #print('Métricas\\nexactitud:%s, precision:%s, recall:%s, f1_score:%s, Gmean:%s' % Met01 % Met02 % Met03 % Met04 % Met05)\n",
        "    #print('yhat0:',yhat0)\n",
        "    print('\\n- - - - - - - - - - - - - - ')\n",
        "  elif name == 'DecisionTreeClassi':\n",
        "    yhat1.append(yhat)\n",
        "    exac1, prec1, reca1, f1sc1, gmea1 = metricas(Ytv_inv, yhat)\n",
        "    #print('Exactitud:',exac1,'  Precision:',prec1,'  Recall:',reca1,'  f1_score:',f1sc1,'  Gmean:',gmea1)\n",
        "    #print('yhat1:',yhat1)\n",
        "    print('\\n- - - - - - - - - - - - - - ')\n",
        "  elif name == 'RandomForestClassi':\n",
        "    yhat2.append(yhat)\n",
        "    exac, prec, reca, f1sc, gmea = metricas(Ytv_inv, yhat)\n",
        "    #print('Exactitud:',exac,'  Precision:',prec,'  Recall:',reca,'  f1_score:',f1sc,'  Gmean:',gmea)\n",
        "    #print('yhat2:',yhat2)\n",
        "    print('\\n- - - - - - - - - - - - - - ')\n",
        "  else:\n",
        "    None\n",
        "    print('\\n')\n",
        "\n",
        "# - - - - - - - - - - - - - - - - - - - - - - - - - - - - - - - - - - - - - - - - \n",
        "# - - - - - - - - - - - - - - - - - - - - - - - - - - - - - - - - - - - - - - - - \n",
        "# - - - - - - - - - - - - - - - - - - - - - - - - - - - - - - - - - - - - - - - - \n",
        "# - - - - - - - - - - - - - - - - - - - - - - - - - - - - - - - - - - - - - - - - \n",
        "# - - - - - - - - - - - - - - - - - - - - - - - - - - - - - - - - - - - - - - - - \n",
        "# - - - - - - - - - - - - - - - - - - - - - - - - - - - - - - - - - - - - - - - - \n",
        "# - - - - - - - - - - - - - - - - - - - - - - - - - - - - - - - - - - - - - - - - \n",
        "# - - - - - - - - - - - - - - - - - - - - - - - - - - - - - - - - - - - - - - - - \n",
        "# - - - - - - - - - - - - - - - - - - - - - - - - - - - - - - - - - - - - - - - - \n",
        "\n",
        "\n",
        "\n",
        "\n",
        "# - - - - - - - - - - - - - - - - - - - - - - - - - - - - - - - - - - - - - - - - \n",
        "# c. Validación cruzada estratificada con 5 particiones y con 3 repeticiones\n",
        "\n",
        "mi_kfold = RepeatedStratifiedKFold(n_splits=5, n_repeats=3) # , random_state=7\n",
        "\n",
        "cv_results = cross_validate()\n",
        "\n",
        "# - - - - - - - - - - - - - - - - - - - - - - - - - - - - - - - - - - - - - - - - \n",
        "# d. Visualizando las métricas con los datos de entrenamiento y validación.\n",
        "#    Visualizando los diagramas de caja y bigotes de los tres modelos con la métrica “recall”.\n",
        "#    Responde: ¿Alguno de los modelos está subentrenado o sobreentrenado?\n",
        "\n",
        "\n",
        "# - - - - - - - - - - - - - - - - - - - - - - - - - - - - - - - - - - - - - - - - \n",
        "# e. Obteniendo curvas de aprendizaje:"
      ],
      "metadata": {
        "colab": {
          "base_uri": "https://localhost:8080/",
          "height": 572
        },
        "outputId": "a2d97573-a489-4ced-f740-c03f1977fc06",
        "id": "Nk6ydf4GfVd3"
      },
      "execution_count": null,
      "outputs": [
        {
          "output_type": "stream",
          "name": "stdout",
          "text": [
            "Parametrós del modelo: LogisticRegression(max_iter=1000)\n",
            "vn:   543 fp:   60 fn:   123 vp:   124\n",
            "Exactitud: 0.7847058823529411   Precision: 0.6739130434782609   Recall: 0.6775956284153005   f1_score: 0.5754060324825986   Gmean: 0.7811358254661691\n",
            "\n",
            "- - - - - - - - - - - - - - \n",
            "Parametrós del modelo: DecisionTreeClassifier()\n",
            "vn:   603 fp:   0 fn:   0 vp:   247\n",
            "Exactitud: 1.0   Precision: 1.0   Recall: inf   f1_score: 1.0   Gmean: inf\n",
            "\n",
            "- - - - - - - - - - - - - - \n",
            "Parametrós del modelo: RandomForestClassifier()\n"
          ]
        },
        {
          "output_type": "stream",
          "name": "stderr",
          "text": [
            "/usr/local/lib/python3.7/dist-packages/ipykernel_launcher.py:22: RuntimeWarning: divide by zero encountered in long_scalars\n"
          ]
        },
        {
          "output_type": "stream",
          "name": "stdout",
          "text": [
            "vn:   603 fp:   0 fn:   0 vp:   247\n",
            "Exactitud: 1.0   Precision: 1.0   Recall: inf   f1_score: 1.0   Gmean: inf\n",
            "\n",
            "- - - - - - - - - - - - - - \n"
          ]
        },
        {
          "output_type": "stream",
          "name": "stderr",
          "text": [
            "/usr/local/lib/python3.7/dist-packages/ipykernel_launcher.py:22: RuntimeWarning: divide by zero encountered in long_scalars\n"
          ]
        },
        {
          "output_type": "error",
          "ename": "TypeError",
          "evalue": "ignored",
          "traceback": [
            "\u001b[0;31m---------------------------------------------------------------------------\u001b[0m",
            "\u001b[0;31mTypeError\u001b[0m                                 Traceback (most recent call last)",
            "\u001b[0;32m<ipython-input-12-559b21d3ac73>\u001b[0m in \u001b[0;36m<module>\u001b[0;34m\u001b[0m\n\u001b[1;32m     76\u001b[0m \u001b[0mmi_kfold\u001b[0m \u001b[0;34m=\u001b[0m \u001b[0mRepeatedStratifiedKFold\u001b[0m\u001b[0;34m(\u001b[0m\u001b[0mn_splits\u001b[0m\u001b[0;34m=\u001b[0m\u001b[0;36m5\u001b[0m\u001b[0;34m,\u001b[0m \u001b[0mn_repeats\u001b[0m\u001b[0;34m=\u001b[0m\u001b[0;36m3\u001b[0m\u001b[0;34m)\u001b[0m \u001b[0;31m# , random_state=7\u001b[0m\u001b[0;34m\u001b[0m\u001b[0;34m\u001b[0m\u001b[0m\n\u001b[1;32m     77\u001b[0m \u001b[0;34m\u001b[0m\u001b[0m\n\u001b[0;32m---> 78\u001b[0;31m \u001b[0mcv_results\u001b[0m \u001b[0;34m=\u001b[0m \u001b[0mcross_validate\u001b[0m\u001b[0;34m(\u001b[0m\u001b[0;34m)\u001b[0m\u001b[0;34m\u001b[0m\u001b[0;34m\u001b[0m\u001b[0m\n\u001b[0m\u001b[1;32m     79\u001b[0m \u001b[0;34m\u001b[0m\u001b[0m\n\u001b[1;32m     80\u001b[0m \u001b[0;31m# - - - - - - - - - - - - - - - - - - - - - - - - - - - - - - - - - - - - - - - -\u001b[0m\u001b[0;34m\u001b[0m\u001b[0;34m\u001b[0m\u001b[0;34m\u001b[0m\u001b[0m\n",
            "\u001b[0;31mTypeError\u001b[0m: cross_validate() missing 2 required positional arguments: 'estimator' and 'X'"
          ]
        }
      ]
    },
    {
      "cell_type": "code",
      "source": [],
      "metadata": {
        "id": "R6btQ-1mfkrh"
      },
      "execution_count": null,
      "outputs": []
    },
    {
      "cell_type": "code",
      "source": [],
      "metadata": {
        "id": "ToTiaAwBfkzV"
      },
      "execution_count": null,
      "outputs": []
    },
    {
      "cell_type": "code",
      "source": [],
      "metadata": {
        "id": "P9d96cDzfk60"
      },
      "execution_count": null,
      "outputs": []
    },
    {
      "cell_type": "code",
      "source": [
        "delta_C = np.linspace(.0001, 200., 20)\n",
        "\n",
        "modelo = LogisticRegression(penalty='l2', \n",
        "                            max_iter=10000,\n",
        "                            solver='liblinear',\n",
        "                            random_state=1)\n",
        "\n",
        "Xx = columnasTransformer.fit_transform(Xtv)\n",
        "\n",
        "cvLC = RepeatedStratifiedKFold(n_splits=10, n_repeats=5, random_state=11)\n",
        "\n",
        "train_scores, valid_scores = validation_curve(modelo, \n",
        "                                              Xx, \n",
        "                                              np.ravel(ytv), \n",
        "                                              param_name=\"C\", \n",
        "                                              param_range=delta_C,\n",
        "                                              cv=cvLC,\n",
        "                                              scoring='accuracy')\n",
        "\n",
        "\n",
        "train_mean = np.mean(train_scores, axis=1)\n",
        "train_std = np.std(train_scores, axis=1)\n",
        "valid_mean = np.mean(valid_scores, axis=1)\n",
        "valid_std = np.std(valid_scores, axis=1)\n",
        "\n",
        "\n",
        "# Curva de entrenamiento con la métrica de exactitud (accuracy):\n",
        "plt.plot(delta_C, train_mean, color='blue', marker='o', markersize=5, label='Training')\n",
        "\n",
        "# Curva de validación:\n",
        "plt.plot(delta_C, valid_mean, color='red', marker='o', markersize=5, label='Validation')\n",
        "\n",
        "plt.title('Función validation_curve()')\n",
        "plt.xlabel('Valores del parámetro C de regularization $L_2$')\n",
        "plt.ylabel('Exactitud')\n",
        "plt.grid()\n",
        "plt.legend(loc='lower right')\n",
        "plt.show()"
      ],
      "metadata": {
        "id": "7KXnlNzAC69Y"
      },
      "execution_count": null,
      "outputs": []
    },
    {
      "cell_type": "code",
      "source": [],
      "metadata": {
        "id": "JuCe-VGq9-Gs"
      },
      "execution_count": null,
      "outputs": []
    },
    {
      "cell_type": "markdown",
      "source": [
        "#**Ejercicio-5.**"
      ],
      "metadata": {
        "id": "Rv7KFq-mC7PS"
      }
    },
    {
      "cell_type": "markdown",
      "source": [
        "5. Finalmente veamos la manera de mejorar los valores de los hiperparámetros de cada modelo, así como el problema del sobreentrenamiento de algunos de ellos. Para ello deberás usar el método GridSearchCV() de scikit-learn. Recuerda que este método hace una búsqueda de los mejores hiperparámetros de un modelo mediante el llamada formato de malla y aplicando validación cruzada. En cada caso puedes incrementar el máximo de iteraciones,”max_iter” para que tengas\n",
        "la convergencia adecuada para todas las combinaciones en cada modelo. Recuerda también aplicar las transformaciones que definiste en tu Pipeline. Para fines de este ejercicio se ha seleccionado para cada modelo una métrica diferente, que permita irte familiarizando con ellas.\n",
        "Puedes consultar su documentación de GridSearchCV en la siguiente liga:\n",
        "https://scikit-learn.org/stable/modules/generated/sklearn.model_selection.GridSearchCV.html\n",
        "* a. Para el modelo de regresión logística realizar el entrenamiento buscando sus mejores hiperparámetros con GridSearchCV(). Los hiperparámetros que debes incluir en su búsqueda deben ser al menos los siguientes: C, solver, class_weight y penalty. En este caso deberás usar la métrica (scoring) “f1-score”. Imprime la mejor combinación de parámetros obtenidos, así como el valor del mejor desempeño (score) obtenido con la métrica f1. ¿Cuál es la utilidad de la métrica “f1-score”? Incluye tus conclusiones.\n",
        "NOTA: Toma en cuenta que no todas las combinaciones de “solver” y “penalty” son\n",
        "posibles, para que lo tomes en cuenta al momento de realizar la búsqueda. Revisa la documentación.\n",
        "* b. Con los mejores valores de los hiperparámetros encontrados con la métrica “f1-score” para el modelo de regresión logística, obtener las curvas de aprendizaje (learning curve),\n",
        "incrementando el tamaño del conjunto de entrenamiento al menos 20 veces. Si lo crees adecuado, puedes hacer los ajustes que consideres adecuados para mejorar el resultado y evitar el sobreentrenamiento o el subentrenamiento.\n",
        "* c. Para el modelo de árbol de decisión (decision tree) realizar el entrenamiento buscando sus mejores hiperparámetros con GridSearchCV(). Los hiperparámetros que debes incluir en su búsqueda deben ser al menos los siguientes: ccp_alpha, criterion, max_depth, min_samples_split y class_weight. En este caso deberás usar la métrica (scoring) “precision”. Imprime la mejor combinación de parámetros obtenidos, así como el valor del mejor desempeño (score) obtenido con la métrica “precision”. ¿Cuál es la utilidad de la métrica “precision”? Incluye tus conclusiones.\n",
        "* d. Con los mejores valores de los hiperparámetros encontrados con la métrica “precision” para el modelo de árbol de decisión, obtener las curvas de aprendizaje (learning curve), incrementando el tamaño del conjunto de entrenamiento al menos 20 veces. Si lo crees adecuado, puedes hacer los ajustes que consideres adecuados para mejorar el resultado y evitar el sobreentrenamiento o el subentrenamiento.\n",
        "* e. Para el modelo de bosque aleatorio (random forest) realizar el entrenamiento buscando sus mejores hiperparámetros con GridSearchCV(). Los hiperparámetros que debes incluir en su búsqueda deben ser al menos los siguientes: ccp_alpha, criterion, max_depth, min_samples_split y class_weight. En este caso deberás usar la métrica (scoring) “recall”. Imprime la mejor combinación de parámetros obtenidos, así como el valor del mejor desempeño (score) obtenido con la métrica “recall”. ¿Cuál es la utilidad de la métrica\n",
        "“recall”? Incluye tus conclusiones. *NOTA: Toma en cuenta que el método de random forest pude tardar varios minutos en llevar a cabo.*\n",
        "* f. Con los mejores valores de los hiperparámetros encontrados con la métrica “recall” para el modelo de bosque aleatorio, obtener las curvas de validación (validation curve), incrementando la complejidad del modelo a través del hiperparámetro “max_depth” con al menos 10 valores. Si lo crees adecuado, puedes hacer los ajustes que consideres adecuados para mejorar el resultado y evitar el sobreentrenamiento o el subentrenamiento."
      ],
      "metadata": {
        "id": "OjPBLHAbvAD2"
      }
    },
    {
      "cell_type": "code",
      "source": [
        "None"
      ],
      "metadata": {
        "id": "jaDj3kawC9B6"
      },
      "execution_count": null,
      "outputs": []
    },
    {
      "cell_type": "code",
      "source": [],
      "metadata": {
        "id": "4tQxQROVC9Us"
      },
      "execution_count": null,
      "outputs": []
    },
    {
      "cell_type": "markdown",
      "source": [
        "#**Ejercicio-6.**"
      ],
      "metadata": {
        "id": "W2S7LI0NC9wE"
      }
    },
    {
      "cell_type": "markdown",
      "source": [
        "6. Para cada uno de estos tres modelos, con las métricas que se consideraron en cada caso y usando\n",
        "el conjunto de Prueba que no has utilizado hasta ahora, obtener los modelos finales como se te\n",
        "indica a continuación. Deberás usar además como conjunto de entrenamiento el llamado modelo\n",
        "de entrenamiento “aumentado” que consiste en las datos que estuviste utilizando para\n",
        "entrenamiento y validación:\n",
        "* a. Obtener el modelo de regresión logística con los mejores parámetros que hayas\n",
        "encontrado con la métrica f1-score utilizada. Imprimir el valor de dicha métrica e incluye\n",
        "tus conclusiones finales para este caso. Incluir un gráfico del árbol de decisión final\n",
        "obtenido.\n",
        "* b. Obtener el modelo de árbol de decisiones con los mejores parámetros que hayas\n",
        "encontrado con la métrica “precision” utilizada. Imprimir el valor de dicha métrica e\n",
        "incluye tus conclusiones finales para este caso.\n",
        "* c. Obtener el modelo de bosque aleatorio con los mejores parámetros que hayas\n",
        "encontrado con la métrica “recall” utilizada. Imprimir el valor de dicha métrica e incluye\n",
        "tus conclusiones finales para este caso."
      ],
      "metadata": {
        "id": "t4nVrdEHvqEi"
      }
    },
    {
      "cell_type": "code",
      "source": [
        "None"
      ],
      "metadata": {
        "id": "x6uBleJUC_AU"
      },
      "execution_count": null,
      "outputs": []
    },
    {
      "cell_type": "code",
      "source": [],
      "metadata": {
        "id": "n0P_AcyjC_Dh"
      },
      "execution_count": null,
      "outputs": []
    },
    {
      "cell_type": "markdown",
      "source": [
        "###**Fin de la Actividad de la semana 6.**"
      ],
      "metadata": {
        "id": "7ql_r2G-DB_m"
      }
    }
  ]
}